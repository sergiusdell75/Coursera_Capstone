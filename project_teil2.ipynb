{
 "cells": [
  {
   "cell_type": "markdown",
   "metadata": {},
   "source": [
    "### Segmenting and Clustering Neighborhoods in Toronto. Part 2."
   ]
  },
  {
   "cell_type": "code",
   "execution_count": 42,
   "metadata": {},
   "outputs": [],
   "source": [
    "import pandas as pd\n",
    "import numpy as np\n",
    "import pgeocode\n",
    "from time import sleep"
   ]
  },
  {
   "cell_type": "markdown",
   "metadata": {},
   "source": [
    "##### read csv as data frame"
   ]
  },
  {
   "cell_type": "code",
   "execution_count": 43,
   "metadata": {},
   "outputs": [
    {
     "data": {
      "text/html": [
       "<div>\n",
       "<style scoped>\n",
       "    .dataframe tbody tr th:only-of-type {\n",
       "        vertical-align: middle;\n",
       "    }\n",
       "\n",
       "    .dataframe tbody tr th {\n",
       "        vertical-align: top;\n",
       "    }\n",
       "\n",
       "    .dataframe thead th {\n",
       "        text-align: right;\n",
       "    }\n",
       "</style>\n",
       "<table border=\"1\" class=\"dataframe\">\n",
       "  <thead>\n",
       "    <tr style=\"text-align: right;\">\n",
       "      <th></th>\n",
       "      <th>Postcode</th>\n",
       "      <th>Borough</th>\n",
       "      <th>Neighbourhood</th>\n",
       "    </tr>\n",
       "  </thead>\n",
       "  <tbody>\n",
       "    <tr>\n",
       "      <th>0</th>\n",
       "      <td>M1B</td>\n",
       "      <td>Scarborough</td>\n",
       "      <td>Rouge, Malvern</td>\n",
       "    </tr>\n",
       "    <tr>\n",
       "      <th>1</th>\n",
       "      <td>M1C</td>\n",
       "      <td>Scarborough</td>\n",
       "      <td>Highland Creek, Rouge Hill, Port Union</td>\n",
       "    </tr>\n",
       "    <tr>\n",
       "      <th>2</th>\n",
       "      <td>M1E</td>\n",
       "      <td>Scarborough</td>\n",
       "      <td>Guildwood, Morningside, West Hill</td>\n",
       "    </tr>\n",
       "    <tr>\n",
       "      <th>3</th>\n",
       "      <td>M1G</td>\n",
       "      <td>Scarborough</td>\n",
       "      <td>Woburn</td>\n",
       "    </tr>\n",
       "    <tr>\n",
       "      <th>4</th>\n",
       "      <td>M1H</td>\n",
       "      <td>Scarborough</td>\n",
       "      <td>Cedarbrae</td>\n",
       "    </tr>\n",
       "  </tbody>\n",
       "</table>\n",
       "</div>"
      ],
      "text/plain": [
       "  Postcode      Borough                           Neighbourhood\n",
       "0      M1B  Scarborough                          Rouge, Malvern\n",
       "1      M1C  Scarborough  Highland Creek, Rouge Hill, Port Union\n",
       "2      M1E  Scarborough       Guildwood, Morningside, West Hill\n",
       "3      M1G  Scarborough                                  Woburn\n",
       "4      M1H  Scarborough                               Cedarbrae"
      ]
     },
     "execution_count": 43,
     "metadata": {},
     "output_type": "execute_result"
    }
   ],
   "source": [
    "df=pd.read_csv('Postcode.csv')\n",
    "df.head(5)"
   ]
  },
  {
   "cell_type": "code",
   "execution_count": 44,
   "metadata": {},
   "outputs": [
    {
     "name": "stdout",
     "output_type": "stream",
     "text": [
      "['M1B', 'M1C', 'M1E', 'M1G', 'M1H', 'M1J', 'M1K', 'M1L', 'M1M', 'M1N', 'M1P', 'M1R', 'M1S', 'M1T', 'M1V', 'M1W', 'M1X', 'M2H', 'M2J', 'M2K', 'M2L', 'M2M', 'M2N', 'M2P', 'M2R', 'M3A', 'M3B', 'M3C', 'M3H', 'M3J', 'M3K', 'M3L', 'M3M', 'M3N', 'M4A', 'M4B', 'M4C', 'M4E', 'M4G', 'M4H', 'M4J', 'M4K', 'M4L', 'M4M', 'M4N', 'M4P', 'M4R', 'M4S', 'M4T', 'M4V', 'M4W', 'M4X', 'M4Y', 'M5A', 'M5B', 'M5C', 'M5E', 'M5G', 'M5H', 'M5J', 'M5K', 'M5L', 'M5M', 'M5N', 'M5P', 'M5R', 'M5S', 'M5T', 'M5V', 'M5W', 'M5X', 'M6A', 'M6B', 'M6C', 'M6E', 'M6G', 'M6H', 'M6J', 'M6K', 'M6L', 'M6M', 'M6N', 'M6P', 'M6R', 'M6S', 'M7A', 'M7R', 'M7Y', 'M8V', 'M8W', 'M8X', 'M8Y', 'M8Z', 'M9A', 'M9B', 'M9C', 'M9L', 'M9M', 'M9N', 'M9P', 'M9R', 'M9V', 'M9W']\n"
     ]
    }
   ],
   "source": [
    "postcodes=df['Postcode'].to_list()\n",
    "print(postcodes)"
   ]
  },
  {
   "cell_type": "markdown",
   "metadata": {},
   "source": [
    "##### create latitude/lognitudes"
   ]
  },
  {
   "cell_type": "code",
   "execution_count": 45,
   "metadata": {},
   "outputs": [
    {
     "data": {
      "text/plain": [
       "postal_code                                       M1B\n",
       "country code                                       CA\n",
       "place_name        Scarborough (Malvern / Rouge River)\n",
       "state_name                                    Ontario\n",
       "state_code                                         ON\n",
       "county_name                               Scarborough\n",
       "county_code                                       NaN\n",
       "community_name                                    NaN\n",
       "community_code                                    NaN\n",
       "latitude                                      43.8113\n",
       "longitude                                     -79.193\n",
       "accuracy                                            6\n",
       "Name: 0, dtype: object"
      ]
     },
     "execution_count": 45,
     "metadata": {},
     "output_type": "execute_result"
    }
   ],
   "source": [
    "nomi = pgeocode.Nominatim('ca')\n",
    "nomi.query_postal_code(\"M1B\")"
   ]
  },
  {
   "cell_type": "code",
   "execution_count": 46,
   "metadata": {},
   "outputs": [
    {
     "name": "stdout",
     "output_type": "stream",
     "text": [
      "M1B 43.8113 -79.193\n",
      "M1C 43.7878 -79.1564\n",
      "M1E 43.7678 -79.1866\n",
      "M1G 43.7712 -79.2144\n",
      "M1H 43.7686 -79.2389\n",
      "M1J 43.7464 -79.2323\n",
      "M1K 43.7298 -79.2639\n",
      "M1L 43.7122 -79.2843\n",
      "M1M 43.7247 -79.2312\n",
      "M1N 43.6952 -79.2646\n",
      "M1P 43.7612 -79.2707\n",
      "M1R 43.7507 -79.3003\n",
      "M1S 43.7946 -79.2644\n",
      "M1T 43.7812 -79.3036\n",
      "M1V 43.8177 -79.2819\n",
      "M1W 43.8016 -79.3216\n",
      "M1X 43.834 -79.2069\n",
      "M2H 43.8015 -79.3577\n",
      "M2J 43.7801 -79.3479\n",
      "M2K 43.7797 -79.3813\n",
      "M2L 43.7547 -79.3764\n",
      "M2M 43.7915 -79.4103\n",
      "M2N 43.7673 -79.4111\n",
      "M2P 43.75 -79.3978\n",
      "M2R 43.7786 -79.445\n",
      "M3A 43.7545 -79.33\n",
      "M3B 43.745 -79.359\n",
      "M3C 43.7334 -79.3329\n",
      "M3H 43.7535 -79.4472\n",
      "M3J 43.7694 -79.4921\n",
      "M3K 43.739 -79.4692\n",
      "M3L 43.7334 -79.5116\n",
      "M3M 43.7319 -79.4928\n",
      "M3N 43.7568 -79.521\n",
      "M4A 43.7276 -79.3148\n",
      "M4B 43.7063 -79.3094\n",
      "M4C 43.6913 -79.3116\n",
      "M4E 43.6784 -79.2941\n",
      "M4G 43.7124 -79.3644\n",
      "M4H 43.7059 -79.3464\n",
      "M4J 43.6872 -79.3368\n",
      "M4K 43.6803 -79.3538\n",
      "M4L 43.6693 -79.3155\n",
      "M4M 43.6561 -79.3406\n",
      "M4N 43.7301 -79.3935\n",
      "M4P 43.7135 -79.3887\n",
      "M4R 43.7143 -79.4065\n",
      "M4S 43.702 -79.3853\n",
      "M4T 43.6899 -79.3853\n",
      "M4V 43.6861 -79.4025\n",
      "M4W 43.6827 -79.373\n",
      "M4X 43.6684 -79.3689\n",
      "M4Y 43.6656 -79.383\n",
      "M5A 43.6555 -79.3626\n",
      "M5B 43.6572 -79.3783\n",
      "M5C 43.6513 -79.3756\n",
      "M5E 43.6456 -79.3754\n",
      "M5G 43.6564 -79.38600000000002\n",
      "M5H 43.6496 -79.3833\n",
      "M5J 43.62300000000001 -79.3936\n",
      "M5K 43.6469 -79.3823\n",
      "M5L 43.6492 -79.3823\n",
      "M5M 43.7335 -79.4177\n",
      "M5N 43.7113 -79.4195\n",
      "M5P 43.6966 -79.41199999999998\n",
      "M5R 43.6736 -79.4035\n",
      "M5S 43.6629 -79.3987\n",
      "M5T 43.6541 -79.3978\n",
      "M5V 43.6404 -79.3995\n",
      "M5W 43.6437 -79.3787\n",
      "M5X 43.6492 -79.3823\n",
      "M6A 43.7223 -79.4504\n",
      "M6B 43.7081 -79.4479\n",
      "M6C 43.6915 -79.4307\n",
      "M6E 43.6889 -79.4507\n",
      "M6G 43.6683 -79.4205\n",
      "M6H 43.6655 -79.4378\n",
      "M6J 43.648 -79.4177\n",
      "M6K 43.6383 -79.4301\n",
      "M6L 43.7137 -79.4869\n",
      "M6M 43.6934 -79.4857\n",
      "M6N 43.6748 -79.4839\n",
      "M6P 43.6605 -79.4633\n",
      "M6R 43.6469 -79.4521\n",
      "M6S 43.6512 -79.4828\n",
      "M7A 43.6641 -79.3889\n",
      "M7R nan nan\n",
      "M7Y 43.7804 -79.2505\n",
      "M8V 43.6075 -79.5013\n",
      "M8W 43.6021 -79.5402\n",
      "M8X 43.6518 -79.5076\n",
      "M8Y 43.6325 -79.4939\n",
      "M8Z 43.6256 -79.5231\n",
      "M9A 43.6662 -79.5282\n",
      "M9B 43.6505 -79.5517\n",
      "M9C 43.6437 -79.5767\n",
      "M9L 43.7598 -79.5565\n",
      "M9M 43.7366 -79.5401\n",
      "M9N 43.7068 -79.517\n",
      "M9P 43.6949 -79.5323\n",
      "M9R 43.6898 -79.5582\n",
      "M9V 43.7432 -79.5876\n",
      "M9W 43.7144 -79.5909\n"
     ]
    }
   ],
   "source": [
    "latitudes=[]\n",
    "longitudes=[]\n",
    "for codes in postcodes:\n",
    "    tdf=nomi.query_postal_code(codes)\n",
    "    lat=tdf[9]\n",
    "    longi=tdf[10]\n",
    "    print(codes, lat, longi)\n",
    "    latitudes.append(tdf[9])\n",
    "    longitudes.append(tdf[10])\n",
    "    sleep(1)\n"
   ]
  },
  {
   "cell_type": "code",
   "execution_count": 58,
   "metadata": {},
   "outputs": [
    {
     "data": {
      "text/html": [
       "<div>\n",
       "<style scoped>\n",
       "    .dataframe tbody tr th:only-of-type {\n",
       "        vertical-align: middle;\n",
       "    }\n",
       "\n",
       "    .dataframe tbody tr th {\n",
       "        vertical-align: top;\n",
       "    }\n",
       "\n",
       "    .dataframe thead th {\n",
       "        text-align: right;\n",
       "    }\n",
       "</style>\n",
       "<table border=\"1\" class=\"dataframe\">\n",
       "  <thead>\n",
       "    <tr style=\"text-align: right;\">\n",
       "      <th></th>\n",
       "      <th>Postcode</th>\n",
       "      <th>Borough</th>\n",
       "      <th>Neighbourhood</th>\n",
       "      <th>Latitude</th>\n",
       "      <th>Longitude</th>\n",
       "    </tr>\n",
       "  </thead>\n",
       "  <tbody>\n",
       "    <tr>\n",
       "      <th>0</th>\n",
       "      <td>M1B</td>\n",
       "      <td>Scarborough</td>\n",
       "      <td>Rouge, Malvern</td>\n",
       "      <td>43.8113</td>\n",
       "      <td>-79.1930</td>\n",
       "    </tr>\n",
       "    <tr>\n",
       "      <th>1</th>\n",
       "      <td>M1C</td>\n",
       "      <td>Scarborough</td>\n",
       "      <td>Highland Creek, Rouge Hill, Port Union</td>\n",
       "      <td>43.7878</td>\n",
       "      <td>-79.1564</td>\n",
       "    </tr>\n",
       "    <tr>\n",
       "      <th>2</th>\n",
       "      <td>M1E</td>\n",
       "      <td>Scarborough</td>\n",
       "      <td>Guildwood, Morningside, West Hill</td>\n",
       "      <td>43.7678</td>\n",
       "      <td>-79.1866</td>\n",
       "    </tr>\n",
       "  </tbody>\n",
       "</table>\n",
       "</div>"
      ],
      "text/plain": [
       "  Postcode      Borough                           Neighbourhood  Latitude  \\\n",
       "0      M1B  Scarborough                          Rouge, Malvern   43.8113   \n",
       "1      M1C  Scarborough  Highland Creek, Rouge Hill, Port Union   43.7878   \n",
       "2      M1E  Scarborough       Guildwood, Morningside, West Hill   43.7678   \n",
       "\n",
       "   Longitude  \n",
       "0   -79.1930  \n",
       "1   -79.1564  \n",
       "2   -79.1866  "
      ]
     },
     "execution_count": 58,
     "metadata": {},
     "output_type": "execute_result"
    }
   ],
   "source": [
    "df['Latitude']=latitudes\n",
    "df['Longitude']=longitudes\n",
    "df.head(3)"
   ]
  },
  {
   "cell_type": "code",
   "execution_count": 56,
   "metadata": {},
   "outputs": [
    {
     "name": "stdout",
     "output_type": "stream",
     "text": [
      "Int64Index([86], dtype='int64')\n",
      "   Postcode      Borough                          Neighbourhood  Latitude  \\\n",
      "86      M7R  Mississauga  Canada Post Gateway Processing Centre  43.65189   \n",
      "\n",
      "    Longitude  \n",
      "86  -79.38171  \n"
     ]
    }
   ],
   "source": [
    "# fill the nan entry\n",
    "a=43.651890\n",
    "b=-79.381710\n",
    "indexNames = df[ df['Postcode'] == 'M7R'].index\n",
    "print(indexNames)\n",
    "df.loc[indexNames,'Latitude'] =a \n",
    "df.loc[indexNames,'Longitude']=b\n",
    "indexNames = df[ df['Postcode'] == 'M7R']\n",
    "print(indexNames)"
   ]
  },
  {
   "cell_type": "code",
   "execution_count": 57,
   "metadata": {},
   "outputs": [],
   "source": [
    "df.to_csv(r'Coordinates.csv',index=False)"
   ]
  }
 ],
 "metadata": {
  "kernelspec": {
   "display_name": "Python 3",
   "language": "python",
   "name": "python3"
  },
  "language_info": {
   "codemirror_mode": {
    "name": "ipython",
    "version": 3
   },
   "file_extension": ".py",
   "mimetype": "text/x-python",
   "name": "python",
   "nbconvert_exporter": "python",
   "pygments_lexer": "ipython3",
   "version": "3.7.4"
  }
 },
 "nbformat": 4,
 "nbformat_minor": 2
}
